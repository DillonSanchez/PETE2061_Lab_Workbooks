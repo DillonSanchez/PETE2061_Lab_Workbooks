{
 "cells": [
  {
   "cell_type": "markdown",
   "metadata": {
    "colab_type": "text",
    "id": "u1YDPNtbdHDj"
   },
   "source": [
    "# Probability Distribution\n",
    "\n",
    "## PETE 2061 Lab 6 Workbook \n",
    "\n",
    "## THIS LAB IS DUE BY 10:20 am!!\n",
    "\n",
    "<a id='top'></a>"
   ]
  },
  {
   "cell_type": "markdown",
   "metadata": {
    "colab_type": "text",
    "id": "krWd44XodHDp"
   },
   "source": [
    "<a id='variables'></a>\n",
    "## Volumetric Reserves Estimation\n",
    "The Stock-tank Oil Initially In Place (STOIIP) is the amount of oil that is stored in an oil reservoir. Assuming that the pore spaces in the reservoir are filled with water and oil only, the STOIIP can be estimated using the formula:<br><br>\n",
    "$STOIIP = 7758 Ah\\phi(1-S_{wi})/B_{oi}$ <br><br>\n",
    "where $A$ is the area of the reservoir in acres, <br>\n",
    "$h$ is the reservoir thickness in feet (ft), <br>\n",
    "$S_{wi}$ is the initial water saturation of the reservoir. It is the ratio of the volume of water initially in the reservoir to the total pore volume in the reservoir. It can either be expressed as a fraction or percentage. <br>\n",
    "$B_{oi}$ is the initial oil formation volume factor. It is the ratio of the volume of oil at reservoir conditions (measured in units of reservoir barrels, rb) to the volume of oil at standard conditions (measured in units of stock tank barrels, stb). This means that the unit of $B_{oi}$ is $\\frac{rb}{stb}$ <br>\n",
    "$\\phi$ is the porosity of the reservoir. It is the ratio of the pore volume to the bulk volume, and can be expressed as a fraction or in percentage.<br>\n",
    "7758 is the conversion factor from acre-ft to barrels (bbl or rb) <br><br>\n",
    "\n",
    "All the variables are assumed to be normally distributed with the mean and standard deviation given using the nomenclaturre (mean, std) below:<br>\n",
    "A = (mean=300,std=25)  $\\hspace{22pt}$ # in acres (store this value in a variable called \"area\")<br>\n",
    "h = (60,10) $\\hspace{27pt}$ # in feet (store this value in a variable called \"h\") <br>\n",
    "$\\phi$ = (0.34,0.1) $\\hspace{19pt}$ # fraction (store this value in a variable called \"poro\")<br>\n",
    "$S_{wi}$ = (0.26,0.05) $\\hspace{15pt}$ # fraction (store this value in a variable called \"s_wi\")<br>\n",
    "$B_{oi}$ = (1.15,0.07) $\\hspace{19pt}$ # rb/stb (store this value in a variable called \"b_oi\")<br>"
   ]
  },
  {
   "cell_type": "markdown",
   "metadata": {},
   "source": [
    "1. Using only the mean values given above, write a Python code that calculates and stores the STOIIP value into a variable named \"stoiip\", and then prints this STOIIP value and unit using a formatted print statement."
   ]
  },
  {
   "cell_type": "code",
   "execution_count": 246,
   "metadata": {},
   "outputs": [
    {
     "name": "stdout",
     "output_type": "stream",
     "text": [
      "30551678.608695652\n"
     ]
    }
   ],
   "source": [
    "area = 300\n",
    "h = 60\n",
    "poro = 0.34\n",
    "s_wi = 0.26\n",
    "b_oi = 1.15\n",
    "stoiip=(7758*(area)*(h)*(poro)*(1-(s_wi)))/b_oi\n",
    "print(stoiip)"
   ]
  },
  {
   "cell_type": "markdown",
   "metadata": {},
   "source": [
    "2. Import the numpy, pandas and matplotlit.pyplot libraries"
   ]
  },
  {
   "cell_type": "code",
   "execution_count": 247,
   "metadata": {},
   "outputs": [],
   "source": [
    "import numpy as np\n",
    "import pandas as pd\n",
    "import matplotlib.pyplot as plt"
   ]
  },
  {
   "cell_type": "markdown",
   "metadata": {},
   "source": [
    "3. Create a variable named nSamples, and assign it to 10000. <br>\n",
    "4. Using the given mean and std values, generate \"nSamples\" of area, h, poro, s_wi and b_oi. These should all be normally-distributed. Use the appropriate function from np.random library<br>\n",
    "HINT: It is wise to start out by first setting nSamples to 10 and printing out your computations to be sure everything is working as expected. You should then set it to 10000 when you are convinced everything is working as expected."
   ]
  },
  {
   "cell_type": "code",
   "execution_count": 248,
   "metadata": {},
   "outputs": [
    {
     "name": "stdout",
     "output_type": "stream",
     "text": [
      "[284.58971232 357.63680327 325.93360477 ... 307.20294881 265.03876697\n",
      " 296.47094637]\n",
      "[60.94838548 60.30039735 63.09906263 ... 43.07284138 56.11350574\n",
      " 76.84927885]\n",
      "[0.32973221 0.29839516 0.20758133 ... 0.38481415 0.38733086 0.35626125]\n",
      "[0.29006511 0.27560568 0.2326683  ... 0.29753918 0.27430657 0.23794102]\n",
      "[1.18214492 1.0793176  1.14607072 ... 1.18989495 1.12953155 1.17138082]\n"
     ]
    }
   ],
   "source": [
    "nSamples = 10000\n",
    "\n",
    "std_area = 25\n",
    "mean_area = 300\n",
    "area = np.random.normal(mean_area, std_area, nSamples) \n",
    "print(area)\n",
    "\n",
    "std_h = 10\n",
    "mean_h = 60\n",
    "h = np.random.normal(mean_h, std_h, nSamples) \n",
    "print(h)\n",
    "\n",
    "std_poro = 0.1\n",
    "mean_poro = 0.34\n",
    "poro = np.random.normal(mean_poro, std_poro, nSamples) \n",
    "print(poro)\n",
    "\n",
    "std_s_wi = 0.05\n",
    "mean_s_wi = 0.26\n",
    "s_wi = np.random.normal(mean_s_wi, std_s_wi, nSamples) \n",
    "print(s_wi)\n",
    "\n",
    "std_b_oi = 0.07\n",
    "mean_b_oi = 1.15\n",
    "b_oi = np.random.normal(mean_b_oi, std_b_oi, nSamples) \n",
    "print(b_oi)"
   ]
  },
  {
   "cell_type": "markdown",
   "metadata": {},
   "source": [
    "5. Compute the stoiip values corresponding to the nSamples for all the variables computed in 4 above.<br>\n",
    "Hint: Note that all the input variables from (4) above are numpy arrays. So, you should vectorize the calculations, by writing just one line of code to compute the STOIIP. <br>\n",
    "Do not use a for loop. It is slow compared to vectorization.<br>\n",
    "**For 10 points of extra-credit you can use a for loop and time both approaches, then report the the percentage speed-up, but this should be done only after you have completed all the steps in this lab workbook.**"
   ]
  },
  {
   "cell_type": "code",
   "execution_count": 257,
   "metadata": {},
   "outputs": [
    {
     "name": "stdout",
     "output_type": "stream",
     "text": [
      "[26646511.31726144 33506549.20473859 22174909.05354748 ...\n",
      " 23320786.74487674 28712003.92127874 40966681.13797101]\n",
      "elapsed time is 0.001991000000003851 seconds\n",
      "[26646511.31726144 33506549.20473859 22174909.05354748 ...\n",
      " 23320786.74487674 28712003.92127874 40966681.13797101]\n",
      "elapsed time is 0.015134000000017522 seconds\n"
     ]
    }
   ],
   "source": [
    "import time\n",
    "tick=time.process_time()\n",
    "stoiip_vec=(7758*(area)*(h)*(poro)*(1-(s_wi)))/(b_oi)\n",
    "tock=time.process_time()\n",
    "print(stoiip_vec)\n",
    "print(f\"elapsed time is {tock-tick} seconds\")\n",
    "\n",
    "tick=time.process_time()\n",
    "for i in range(nSamples):\n",
    "    stoiip_vec[i]=(7758*(area[i])*(h[i])*(poro[i])*(1-(s_wi[i])))/(b_oi[i])\n",
    "tock=time.process_time()\n",
    "print(stoiip_vec)\n",
    "print(f\"elapsed time is {tock-tick} seconds\")"
   ]
  },
  {
   "cell_type": "markdown",
   "metadata": {},
   "source": [
    "6. Store the results in a pandas DataFrame with a column name \"STOIIP\". Display the first five rows of the stoiip using the .head() function of the pandas DataFrame object."
   ]
  },
  {
   "cell_type": "code",
   "execution_count": 250,
   "metadata": {},
   "outputs": [
    {
     "data": {
      "text/html": [
       "<div>\n",
       "<style scoped>\n",
       "    .dataframe tbody tr th:only-of-type {\n",
       "        vertical-align: middle;\n",
       "    }\n",
       "\n",
       "    .dataframe tbody tr th {\n",
       "        vertical-align: top;\n",
       "    }\n",
       "\n",
       "    .dataframe thead th {\n",
       "        text-align: right;\n",
       "    }\n",
       "</style>\n",
       "<table border=\"1\" class=\"dataframe\">\n",
       "  <thead>\n",
       "    <tr style=\"text-align: right;\">\n",
       "      <th></th>\n",
       "      <th>STOIIP</th>\n",
       "    </tr>\n",
       "  </thead>\n",
       "  <tbody>\n",
       "    <tr>\n",
       "      <th>0</th>\n",
       "      <td>2.664651e+07</td>\n",
       "    </tr>\n",
       "    <tr>\n",
       "      <th>1</th>\n",
       "      <td>3.350655e+07</td>\n",
       "    </tr>\n",
       "    <tr>\n",
       "      <th>2</th>\n",
       "      <td>2.217491e+07</td>\n",
       "    </tr>\n",
       "    <tr>\n",
       "      <th>3</th>\n",
       "      <td>1.903881e+07</td>\n",
       "    </tr>\n",
       "    <tr>\n",
       "      <th>4</th>\n",
       "      <td>8.388741e+06</td>\n",
       "    </tr>\n",
       "  </tbody>\n",
       "</table>\n",
       "</div>"
      ],
      "text/plain": [
       "         STOIIP\n",
       "0  2.664651e+07\n",
       "1  3.350655e+07\n",
       "2  2.217491e+07\n",
       "3  1.903881e+07\n",
       "4  8.388741e+06"
      ]
     },
     "execution_count": 250,
     "metadata": {},
     "output_type": "execute_result"
    }
   ],
   "source": [
    "df = pd.DataFrame({'STOIIP':stoiip_vec})\n",
    "df.head(5)"
   ]
  },
  {
   "cell_type": "markdown",
   "metadata": {},
   "source": [
    "7. Plot the probability density function (pdf) of these 10,000 values of STOIIP"
   ]
  },
  {
   "cell_type": "code",
   "execution_count": 251,
   "metadata": {},
   "outputs": [
    {
     "data": {
      "text/plain": [
       "(-4459120.481721127, 87389585.5688861, 0.0, 3.881110745355388e-08)"
      ]
     },
     "execution_count": 251,
     "metadata": {},
     "output_type": "execute_result"
    },
    {
     "data": {
      "image/png": "[encoded data removed]",
      "text/plain": [
       "<Figure size 432x288 with 1 Axes>"
      ]
     },
     "metadata": {
      "needs_background": "light"
     },
     "output_type": "display_data"
    }
   ],
   "source": [
    "df['STOIIP'].plot(kind='hist', histtype='step', bins=35, density=True,)\n",
    "df['STOIIP'].plot.density(bw_method=0.2,c='C4')\n",
    "plt.axis(xmin=df['STOIIP'].min(),xmax=df['STOIIP'].max())"
   ]
  },
  {
   "cell_type": "markdown",
   "metadata": {},
   "source": [
    "8. Plot the cumulative distribution function (cdf) of these 10,000 values of STOIIP <br>\n",
    "9. On this cdf plot, use vertical lines to show the $P_10$, $P_50$, and $P_90$ values of the STOIIP."
   ]
  },
  {
   "cell_type": "code",
   "execution_count": 252,
   "metadata": {},
   "outputs": [
    {
     "data": {
      "text/plain": [
       "<matplotlib.lines.Line2D at 0x7fd616eea3d0>"
      ]
     },
     "execution_count": 252,
     "metadata": {},
     "output_type": "execute_result"
    },
    {
     "data": {
      "image/png": "[encoded data removed]",
      "text/plain": [
       "<Figure size 432x288 with 1 Axes>"
      ]
     },
     "metadata": {
      "needs_background": "light"
     },
     "output_type": "display_data"
    }
   ],
   "source": [
    "df['STOIIP'].plot(kind='hist', histtype='step',  bins=100, density=True, cumulative=True)\n",
    "plt.axvline(df['STOIIP'].quantile(0.10), c='C4',linestyle='--')\n",
    "plt.axvline(df['STOIIP'].quantile(0.50), c='C4')\n",
    "plt.axvline(df['STOIIP'].quantile(0.90), c='C4',linestyle=':')"
   ]
  },
  {
   "cell_type": "markdown",
   "metadata": {},
   "source": [
    "10. In one line display the 10th, 50th and 90th percentiles of the STOIIP values. <br>\n",
    "Hint: use the quantile function, and pass in a list of the percentiles as a fraction \n",
    "11. In a new markdown cell, type out what the P10, P50 and P90 estimates of the STOIIP are"
   ]
  },
  {
   "cell_type": "code",
   "execution_count": 253,
   "metadata": {},
   "outputs": [
    {
     "data": {
      "text/html": [
       "<div>\n",
       "<style scoped>\n",
       "    .dataframe tbody tr th:only-of-type {\n",
       "        vertical-align: middle;\n",
       "    }\n",
       "\n",
       "    .dataframe tbody tr th {\n",
       "        vertical-align: top;\n",
       "    }\n",
       "\n",
       "    .dataframe thead th {\n",
       "        text-align: right;\n",
       "    }\n",
       "</style>\n",
       "<table border=\"1\" class=\"dataframe\">\n",
       "  <thead>\n",
       "    <tr style=\"text-align: right;\">\n",
       "      <th></th>\n",
       "      <th>STOIIP</th>\n",
       "    </tr>\n",
       "  </thead>\n",
       "  <tbody>\n",
       "    <tr>\n",
       "      <th>0.1</th>\n",
       "      <td>1.745119e+07</td>\n",
       "    </tr>\n",
       "    <tr>\n",
       "      <th>0.5</th>\n",
       "      <td>2.969000e+07</td>\n",
       "    </tr>\n",
       "    <tr>\n",
       "      <th>0.9</th>\n",
       "      <td>4.524002e+07</td>\n",
       "    </tr>\n",
       "  </tbody>\n",
       "</table>\n",
       "</div>"
      ],
      "text/plain": [
       "           STOIIP\n",
       "0.1  1.745119e+07\n",
       "0.5  2.969000e+07\n",
       "0.9  4.524002e+07"
      ]
     },
     "execution_count": 253,
     "metadata": {},
     "output_type": "execute_result"
    }
   ],
   "source": [
    "df.quantile([0.1,0.5,0.9])"
   ]
  },
  {
   "cell_type": "code",
   "execution_count": 254,
   "metadata": {},
   "outputs": [
    {
     "name": "stdout",
     "output_type": "stream",
     "text": [
      "P10=45240020.7500603\n",
      "P50=29689997.336668372\n",
      "P90=17451189.545100015\n"
     ]
    }
   ],
   "source": [
    "STOIIP_P10=df['STOIIP'].quantile(0.90)\n",
    "print(f'P10={STOIIP_P10}')\n",
    "STOIIP_P50=df['STOIIP'].quantile(0.50)\n",
    "print(f'P50={STOIIP_P50}')\n",
    "STOIIP_P90=df['STOIIP'].quantile(0.10)\n",
    "print(f'P90={STOIIP_P90}')"
   ]
  },
  {
   "cell_type": "code",
   "execution_count": null,
   "metadata": {},
   "outputs": [],
   "source": []
  }
 ],
 "metadata": {
  "colab": {
   "collapsed_sections": [
    "sYQs3O-6dHFb",
    "8sIJ4A57dHFk",
    "_73RPOcBdHFn",
    "h9s2tfPcdHFo",
    "zt4YHVYPdHGR"
   ],
   "include_colab_link": true,
   "name": "Copy of intro-python-colab.ipynb",
   "provenance": [],
   "version": "0.3.2"
  },
  "kernelspec": {
   "display_name": "Python 3",
   "language": "python",
   "name": "python3"
  },
  "language_info": {
   "codemirror_mode": {
    "name": "ipython",
    "version": 3
   },
   "file_extension": ".py",
   "mimetype": "text/x-python",
   "name": "python",
   "nbconvert_exporter": "python",
   "pygments_lexer": "ipython3",
   "version": "3.8.8"
  }
 },
 "nbformat": 4,
 "nbformat_minor": 1
}
