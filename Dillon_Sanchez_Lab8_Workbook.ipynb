{
 "cells": [
  {
   "cell_type": "markdown",
   "metadata": {
    "colab_type": "text",
    "id": "u1YDPNtbdHDj"
   },
   "source": [
    "\n",
    "#  Inferential Statistics\n",
    "\n",
    "## PETE 2061 Lab 8 Workbook \n",
    "\n",
    "## THIS IS DUE BY 11:59 PM TODAY (Mar 13, 2020)"
   ]
  },
  {
   "cell_type": "markdown",
   "metadata": {},
   "source": [
    "1. **Using the example in \"lab8_inferential_stats.ipynb\", write a Python code to compute the confidence interval for the winning percentage of Ed Orgeron based on \"poll-larger.csv\", and show that he is the likely winner within a 95% confidence interval**\n",
    "2. Type out:\n",
    "    * (a) the 95% confidence interval **-3 if wrong or not attempted, -1.5 if figure is right but there's a typo**\n",
    "    * (b) the point estimate **-3 if wrong or not attempted, -1.5 if figure is right but there's a typo**\n",
    "    * (c) the margin of error. **-3 if wrong or not attempted, -1.5 if figure is right but there's a typo**\n",
    "   \n",
    "**If none of the 3 questions in 2 is solved, but the code generates the right plot, -10**\n",
    "**If 1000 samples were used instead of 10000, but everything else is done correctly, -7 because (b) will be right**"
   ]
  },
  {
   "cell_type": "code",
   "execution_count": 23,
   "metadata": {},
   "outputs": [
    {
     "data": {
      "text/plain": [
       "Orgeron    0.5181\n",
       "Saban      0.4819\n",
       "Name: vote, dtype: float64"
      ]
     },
     "execution_count": 23,
     "metadata": {},
     "output_type": "execute_result"
    }
   ],
   "source": [
    "import pandas as pd\n",
    "import numpy as np\n",
    "import matplotlib\n",
    "import matplotlib.pyplot as plt\n",
    "%matplotlib inline\n",
    "\n",
    "largepoll = pd.read_csv('poll-larger.csv')\n",
    "largepoll['vote'].value_counts(normalize=True)"
   ]
  },
  {
   "cell_type": "code",
   "execution_count": 24,
   "metadata": {},
   "outputs": [
    {
     "data": {
      "text/plain": [
       "Orgeron    0.521\n",
       "Saban      0.479\n",
       "Name: vote, dtype: float64"
      ]
     },
     "execution_count": 24,
     "metadata": {},
     "output_type": "execute_result"
    }
   ],
   "source": [
    "def sample(orgeronWinPercent,n=1000):\n",
    "    return pd.DataFrame({'vote': np.where(np.random.rand(n) < orgeronWinPercent,'Orgeron','Saban')})\n",
    "s = sample(0.5181,n=1000)\n",
    "s['vote'].value_counts(normalize=True)"
   ]
  },
  {
   "cell_type": "code",
   "execution_count": 25,
   "metadata": {},
   "outputs": [
    {
     "data": {
      "text/plain": [
       "(0.5079975, 0.5274025)"
      ]
     },
     "execution_count": 25,
     "metadata": {},
     "output_type": "execute_result"
    }
   ],
   "source": [
    "distDF = pd.DataFrame([sample(0.5181)['vote'].value_counts(normalize=True) for i in range(1000)])\n",
    "def samplingdist(orgeronWinPercent,n=10000):\n",
    "    return pd.DataFrame([sample(orgeronWinPercent,n)['vote'].value_counts(normalize=True) for i in range(1000)])\n",
    "def quantiles(orgeronWinPercent,n=10000):\n",
    "    distDF = samplingdist(orgeronWinPercent,n)\n",
    "    return distDF['Orgeron'].quantile(0.025), distDF['Orgeron'].quantile(0.975)\n",
    "quantiles(0.5181)"
   ]
  },
  {
   "cell_type": "code",
   "execution_count": 26,
   "metadata": {},
   "outputs": [
    {
     "data": {
      "text/plain": [
       "<matplotlib.lines.Line2D at 0x7f9d9751c250>"
      ]
     },
     "execution_count": 26,
     "metadata": {},
     "output_type": "execute_result"
    },
    {
     "data": {
      "image/png": "[encoded data removed]",
      "text/plain": [
       "<Figure size 432x288 with 1 Axes>"
      ]
     },
     "metadata": {
      "needs_background": "light"
     },
     "output_type": "display_data"
    }
   ],
   "source": [
    "distDF = samplingdist(0.5181,10000)\n",
    "distDF['Orgeron'].plot(kind='hist', histtype='step',bins=20)\n",
    "plt.axvline(distDF['Orgeron'].quantile(0.025), c='C1',linestyle='--')\n",
    "plt.axvline(distDF['Orgeron'].quantile(0.500), c='C1')\n",
    "plt.axvline(distDF['Orgeron'].quantile(0.975), c='C1',linestyle=':')"
   ]
  },
  {
   "cell_type": "code",
   "execution_count": 27,
   "metadata": {},
   "outputs": [
    {
     "data": {
      "text/plain": [
       "(0.5076, 0.5277)"
      ]
     },
     "execution_count": 27,
     "metadata": {},
     "output_type": "execute_result"
    }
   ],
   "source": [
    "quantiles(0.5181,10000)"
   ]
  },
  {
   "cell_type": "code",
   "execution_count": 22,
   "metadata": {},
   "outputs": [],
   "source": [
    "#The 95% confidence interval is: [0.508,0.528]\n",
    "#Point Estimate = 0.5181 +/- 0.01 (at 95% confidence)\n",
    "#The margin of error lies within 1% when we use a sample size of 10,000."
   ]
  },
  {
   "cell_type": "code",
   "execution_count": null,
   "metadata": {},
   "outputs": [],
   "source": []
  }
 ],
 "metadata": {
  "colab": {
   "collapsed_sections": [
    "sYQs3O-6dHFb",
    "8sIJ4A57dHFk",
    "_73RPOcBdHFn",
    "h9s2tfPcdHFo",
    "zt4YHVYPdHGR"
   ],
   "include_colab_link": true,
   "name": "Copy of intro-python-colab.ipynb",
   "provenance": [],
   "version": "0.3.2"
  },
  "kernelspec": {
   "display_name": "Python 3",
   "language": "python",
   "name": "python3"
  },
  "language_info": {
   "codemirror_mode": {
    "name": "ipython",
    "version": 3
   },
   "file_extension": ".py",
   "mimetype": "text/x-python",
   "name": "python",
   "nbconvert_exporter": "python",
   "pygments_lexer": "ipython3",
   "version": "3.8.8"
  }
 },
 "nbformat": 4,
 "nbformat_minor": 1
}
