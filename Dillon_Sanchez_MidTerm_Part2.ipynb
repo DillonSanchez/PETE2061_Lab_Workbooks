{
 "cells": [
  {
   "cell_type": "markdown",
   "metadata": {
    "colab_type": "text",
    "id": "u1YDPNtbdHDj"
   },
   "source": [
    "# PETE 2061 Mid-term Exam (Part 2) \n",
    "\n",
    "## THIS IS DUE BY 10:20 AM TODAY"
   ]
  },
  {
   "cell_type": "markdown",
   "metadata": {},
   "source": [
    "## Instructions\n",
    "* Answer question 1 and either question 2 or 3.\n",
    "* You will be video-monitored, and any violation of the LSU Code of Student Conduct will be reported to the Office of Student Advocacy and Accountability (SAA).\n",
    "* This is an open book exam. You may use cheat sheets, lecture notes and lab notebooks in soft or hard copies. \n",
    "* You may use the internet but you are not allowed to communicate with anyone or use your cell phones. \n",
    "* You are not allowed to start with this section of the finals until the first part is completed.\n",
    "* Make sure you save often, and be sure you know where the file you are working on is being saved."
   ]
  },
  {
   "cell_type": "markdown",
   "metadata": {},
   "source": [
    "1. Well-1 is the only well in a gas reservoir, referred to as \"Reservoir A\". The production rate from Well-1 can decline following the exponential (Exp), hyperbolic (Hyp), or the harmonic (Harm) decline model. The initial gas rate ($q_i$) from this well is 1000000 scf/day, and its initial decline rate ($D_i$) is 0.1% per day (which is equivalent to 0.001 per day). Write a Python code that: <br>\n",
    "    a. **[5 points]** Reads in \"Exp\", \"Hyp\", or \"Harm\" using the input function, and stores the string typed in by the user into a variable named \"model\". <br>\n",
    "    b. **[9 points]** Compute the rate (in scf/day) for the first 3650 days of production using the input model from (a) above. <br>\n",
    "    c. **[5 points]** Plot the flow rate computed in (b) against time. The plot function should work regardless of the model selected in (a) <br>\n",
    "    d. **[6 points]** Compute and print (or display) the mean, minimum, and variance of the flow rates obtained."
   ]
  },
  {
   "cell_type": "code",
   "execution_count": 65,
   "metadata": {},
   "outputs": [
    {
     "name": "stdout",
     "output_type": "stream",
     "text": [
      "Type Exp, Hyp, or Harm: Exp\n",
      "mean = 733080814.0364177; minimum = 0.0; std = 256412757.13704333\n"
     ]
    },
    {
     "data": {
      "image/png": "[encoded data removed]",
      "text/plain": [
       "<Figure size 432x288 with 1 Axes>"
      ]
     },
     "metadata": {
      "needs_background": "light"
     },
     "output_type": "display_data"
    }
   ],
   "source": [
    "model=input(\"Type Exp, Hyp, or Harm: \")\n",
    "import numpy as np\n",
    "import matplotlib.pyplot as plt\n",
    "tVec=np.arange(3651)\n",
    "qi = 1000000\n",
    "Di = 0.001\n",
    "if (model == \"Exp\"):\n",
    "    q = qi*np.exp(-Di*tVec)\n",
    "    Q = (qi-q)/Di;\n",
    "elif (model== \"Hyp\"):\n",
    "    b=0.5\n",
    "    Q=(qi/(Di*(1-b)))*(1-(1/(1+(b*Di*tVec))**((1-b)/b)))\n",
    "elif (model == \"Harm\"):\n",
    "    Q = (qi/Di)*np.log(1+Di*tVec)\n",
    "\n",
    "plt.plot(tVec,Q)\n",
    "\n",
    "print(f\"mean = {np.mean(Q)}; minimum = {np.min(Q)}; std = {np.std(Q)}\")"
   ]
  },
  {
   "cell_type": "code",
   "execution_count": null,
   "metadata": {},
   "outputs": [],
   "source": []
  },
  {
   "cell_type": "markdown",
   "metadata": {},
   "source": [
    "# Implementation of Basic Programming Logic\n",
    "2. The maximum score achievable on an exam is 50. For a class of 100 students, it was observed that the student grades were uniformly distributed between 10 and 50. Assume that A is from 90-100%, B is from 80-89%, C is from 70-79%, D is from 60-69%, and F is from 0 to 59%. <br><br>\n",
    "(a) **[14 points]** Write a Python code that computes and stores the letter grade corresponding to each of the 100 students scores in a list. <br><br>\n",
    "(b) **[6 points]** Create a data frame that with the following columns<br>\n",
    "(i) Score (out of 50)  <br>\n",
    "(ii) Percentage  <br>\n",
    "(iii) Letter grade  <br><br>\n",
    "(c) **[5 points]** Display the first 5 rows of this data frame."
   ]
  },
  {
   "cell_type": "code",
   "execution_count": 66,
   "metadata": {},
   "outputs": [
    {
     "name": "stdout",
     "output_type": "stream",
     "text": [
      "[  1   2   3   4   5   6   7   8   9  10  11  12  13  14  15  16  17  18\n",
      "  19  20  21  22  23  24  25  26  27  28  29  30  31  32  33  34  35  36\n",
      "  37  38  39  40  41  42  43  44  45  46  47  48  49  50  51  52  53  54\n",
      "  55  56  57  58  59  60  61  62  63  64  65  66  67  68  69  70  71  72\n",
      "  73  74  75  76  77  78  79  80  81  82  83  84  85  86  87  88  89  90\n",
      "  91  92  93  94  95  96  97  98  99 100]\n",
      "[0.5  0.84 0.76 0.24 0.3  0.7  0.8  0.84 0.42 0.68 0.8  0.32 0.34 0.3\n",
      " 0.38 0.34 0.36 0.6  0.88 0.34 0.48 0.66 0.6  0.52 0.94 0.3  0.98 0.54\n",
      " 0.52 0.78 0.58 0.3  0.36 0.7  0.96 0.78 0.4  0.46 0.46 0.54 0.66 0.8\n",
      " 0.66 0.22 0.64 0.52 0.3  0.58 0.34 0.78 0.22 0.4  0.82 0.26 0.58 0.72\n",
      " 0.82 0.76 0.94 0.4  0.7  0.86 0.46 0.2  0.6  0.56 0.8  0.74 0.96 0.26\n",
      " 0.28 0.84 0.24 0.48 0.72 0.88 0.6  0.48 0.84 0.94 0.58 0.68 0.92 0.82\n",
      " 0.52 0.68 0.24 0.84 0.28 0.56 0.82 0.44 0.46 0.8  0.58 0.96 0.3  0.46\n",
      " 0.36 0.34]\n",
      "['F', 'B', 'C', 'F', 'F', 'C', 'B', 'B', 'F', 'D', 'B', 'F', 'F', 'F', 'F', 'F', 'F', 'D', 'B', 'F', 'F', 'D', 'D', 'F', 'A', 'F', 'A', 'F', 'F', 'C', 'F', 'F', 'F', 'C', 'A', 'C', 'F', 'F', 'F', 'F', 'D', 'B', 'D', 'F', 'D', 'F', 'F', 'F', 'F', 'C', 'F', 'F', 'B', 'F', 'F', 'C', 'B', 'C', 'A', 'F', 'C', 'B', 'F', 'F', 'D', 'F', 'B', 'C', 'A', 'F', 'F', 'B', 'F', 'F', 'C', 'B', 'D', 'F', 'B', 'A', 'F', 'D', 'A', 'B', 'F', 'D', 'F', 'B', 'F', 'F', 'B', 'F', 'F', 'B', 'F', 'A', 'F', 'F', 'F', 'F']\n",
      "[1, 'F', 2, 'B', 3, 'C', 4, 'F', 5, 'F', 6, 'C', 7, 'B', 8, 'B', 9, 'F', 10, 'D', 11, 'B', 12, 'F', 13, 'F', 14, 'F', 15, 'F', 16, 'F', 17, 'F', 18, 'D', 19, 'B', 20, 'F', 21, 'F', 22, 'D', 23, 'D', 24, 'F', 25, 'A', 26, 'F', 27, 'A', 28, 'F', 29, 'F', 30, 'C', 31, 'F', 32, 'F', 33, 'F', 34, 'C', 35, 'A', 36, 'C', 37, 'F', 38, 'F', 39, 'F', 40, 'F', 41, 'D', 42, 'B', 43, 'D', 44, 'F', 45, 'D', 46, 'F', 47, 'F', 48, 'F', 49, 'F', 50, 'C', 51, 'F', 52, 'F', 53, 'B', 54, 'F', 55, 'F', 56, 'C', 57, 'B', 58, 'C', 59, 'A', 60, 'F', 61, 'C', 62, 'B', 63, 'F', 64, 'F', 65, 'D', 66, 'F', 67, 'B', 68, 'C', 69, 'A', 70, 'F', 71, 'F', 72, 'B', 73, 'F', 74, 'F', 75, 'C', 76, 'B', 77, 'D', 78, 'F', 79, 'B', 80, 'A', 81, 'F', 82, 'D', 83, 'A', 84, 'B', 85, 'F', 86, 'D', 87, 'F', 88, 'B', 89, 'F', 90, 'F', 91, 'B', 92, 'F', 93, 'F', 94, 'B', 95, 'F', 96, 'A', 97, 'F', 98, 'F', 99, 'F', 100, 'F']\n"
     ]
    },
    {
     "data": {
      "text/html": [
       "<div>\n",
       "<style scoped>\n",
       "    .dataframe tbody tr th:only-of-type {\n",
       "        vertical-align: middle;\n",
       "    }\n",
       "\n",
       "    .dataframe tbody tr th {\n",
       "        vertical-align: top;\n",
       "    }\n",
       "\n",
       "    .dataframe thead th {\n",
       "        text-align: right;\n",
       "    }\n",
       "</style>\n",
       "<table border=\"1\" class=\"dataframe\">\n",
       "  <thead>\n",
       "    <tr style=\"text-align: right;\">\n",
       "      <th></th>\n",
       "      <th>Score(out of 50)</th>\n",
       "      <th>Percentage</th>\n",
       "      <th>Letter grade</th>\n",
       "    </tr>\n",
       "  </thead>\n",
       "  <tbody>\n",
       "    <tr>\n",
       "      <th>1</th>\n",
       "      <td>25</td>\n",
       "      <td>0.50</td>\n",
       "      <td>F</td>\n",
       "    </tr>\n",
       "    <tr>\n",
       "      <th>2</th>\n",
       "      <td>42</td>\n",
       "      <td>0.84</td>\n",
       "      <td>B</td>\n",
       "    </tr>\n",
       "    <tr>\n",
       "      <th>3</th>\n",
       "      <td>38</td>\n",
       "      <td>0.76</td>\n",
       "      <td>C</td>\n",
       "    </tr>\n",
       "    <tr>\n",
       "      <th>4</th>\n",
       "      <td>12</td>\n",
       "      <td>0.24</td>\n",
       "      <td>F</td>\n",
       "    </tr>\n",
       "    <tr>\n",
       "      <th>5</th>\n",
       "      <td>15</td>\n",
       "      <td>0.30</td>\n",
       "      <td>F</td>\n",
       "    </tr>\n",
       "  </tbody>\n",
       "</table>\n",
       "</div>"
      ],
      "text/plain": [
       "   Score(out of 50)  Percentage Letter grade\n",
       "1                25        0.50            F\n",
       "2                42        0.84            B\n",
       "3                38        0.76            C\n",
       "4                12        0.24            F\n",
       "5                15        0.30            F"
      ]
     },
     "execution_count": 66,
     "metadata": {},
     "output_type": "execute_result"
    }
   ],
   "source": [
    "import pandas as pd\n",
    "studentID=np.arange(1,101)\n",
    "grades=np.random.randint(10,50,100)\n",
    "percent=grades/50\n",
    "letter=[]\n",
    "for i in percent:\n",
    "    if i>=0.9:\n",
    "        letter.append(\"A\")\n",
    "    elif i<0.9 and i>=0.8:\n",
    "        letter.append(\"B\")\n",
    "    elif i<0.8 and i>=0.7:\n",
    "        letter.append(\"C\")\n",
    "    elif i<0.7 and i>=0.6:\n",
    "        letter.append('D')\n",
    "    else:\n",
    "        letter.append('F')\n",
    "print(studentID)\n",
    "print(percent)\n",
    "print(letter)\n",
    "def countList(studentID, letter):\n",
    "    return [sub[item] for item in range(len(letter))\n",
    "                      for sub in [studentID, letter]]\n",
    "print(countList(studentID, letter))\n",
    "        \n",
    "df=pd.DataFrame({'Score(out of 50)':grades, 'Percentage':percent, 'Letter grade':letter,}, index=studentID)\n",
    "df.head()"
   ]
  },
  {
   "cell_type": "markdown",
   "metadata": {},
   "source": [
    "3. It is commonly said that one human year is equivalent to 7 dog years. However, this simple conversion fails to recognize that dogs reach adulthood in approximately two years. As a result, some people believe that it is better to count each of the first two human years as 10.5 dog years, and then count each additional human year as 4 dog\n",
    "years. <br>\n",
    "Write a program that implements the conversion from human years to dog years described in the previous paragraph. Ensure that your program works correctly for conversions of less than two human years and for conversions of two or more human years. <br><br> \n",
    "**[5 points]** (a) To test your code, read in any integer between 1 and 10. <br><br>\n",
    "**[15 points]** (b) Convert any integer entered to dog years, using the age conversion described. <br><br>\n",
    "**[5 points]** (c) Print out the integer entered and the corresponding dog years. <br><br>\n",
    "NOTE: If you enter 1, that should be equivalent to 10.5 dog years. If you enter 2, you should get 21 dog years. If you enter 3, you should get 25 dog years. etc.\n"
   ]
  },
  {
   "cell_type": "code",
   "execution_count": null,
   "metadata": {},
   "outputs": [],
   "source": []
  },
  {
   "cell_type": "code",
   "execution_count": null,
   "metadata": {},
   "outputs": [],
   "source": []
  }
 ],
 "metadata": {
  "colab": {
   "collapsed_sections": [
    "sYQs3O-6dHFb",
    "8sIJ4A57dHFk",
    "_73RPOcBdHFn",
    "h9s2tfPcdHFo",
    "zt4YHVYPdHGR"
   ],
   "include_colab_link": true,
   "name": "Copy of intro-python-colab.ipynb",
   "provenance": [],
   "version": "0.3.2"
  },
  "kernelspec": {
   "display_name": "Python 3",
   "language": "python",
   "name": "python3"
  },
  "language_info": {
   "codemirror_mode": {
    "name": "ipython",
    "version": 3
   },
   "file_extension": ".py",
   "mimetype": "text/x-python",
   "name": "python",
   "nbconvert_exporter": "python",
   "pygments_lexer": "ipython3",
   "version": "3.8.8"
  }
 },
 "nbformat": 4,
 "nbformat_minor": 1
}
